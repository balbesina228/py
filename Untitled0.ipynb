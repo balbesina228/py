{
  "nbformat": 4,
  "nbformat_minor": 0,
  "metadata": {
    "colab": {
      "name": "Untitled0.ipynb",
      "provenance": [],
      "authorship_tag": "ABX9TyOAxZUSAziHG1/qBME+ojdk",
      "include_colab_link": true
    },
    "kernelspec": {
      "name": "python3",
      "display_name": "Python 3"
    },
    "language_info": {
      "name": "python"
    }
  },
  "cells": [
    {
      "cell_type": "markdown",
      "metadata": {
        "id": "view-in-github",
        "colab_type": "text"
      },
      "source": [
        "<a href=\"https://colab.research.google.com/github/balbesina228/py/blob/main/Untitled0.ipynb\" target=\"_parent\"><img src=\"https://colab.research.google.com/assets/colab-badge.svg\" alt=\"Open In Colab\"/></a>"
      ]
    },
    {
      "cell_type": "code",
      "execution_count": null,
      "metadata": {
        "id": "YX6imLoVIubA"
      },
      "outputs": [],
      "source": [
        "def get_formatted_name(first, second):\n",
        "    formatted_name = str(first + ', ' + second)\n",
        "    return formatted_name.title()\n",
        "\n",
        "def get_city_country():\n",
        "    x = input('Enter a city: ')\n",
        "    y = input('Enter a country: ')\n",
        "    return get_formatted_name(x, y)\n",
        "    \n",
        "print(get_city_country())\n"
      ]
    },
    {
      "cell_type": "code",
      "source": [
        "import city_functions, unittest\n",
        "\n",
        "class CityCountryTest(unittest.TestCase):\n",
        "    def test_city_country_two_words(self):\n",
        "        variable = get_formatted_name('Santiago', 'Chile')\n",
        "        self.assertEqual('Santiago, Chile')\n",
        "if __name__ == '__main__'\n",
        "    unittest.main()"
      ],
      "metadata": {
        "colab": {
          "base_uri": "https://localhost:8080/",
          "height": 321
        },
        "id": "WM6B9PK2gnGH",
        "outputId": "ea2cc310-fe47-450b-9368-7c602bcf5909"
      },
      "execution_count": 31,
      "outputs": [
        {
          "output_type": "stream",
          "name": "stderr",
          "text": [
            "E\n",
            "======================================================================\n",
            "ERROR: /root/ (unittest.loader._FailedTest)\n",
            "----------------------------------------------------------------------\n",
            "AttributeError: module '__main__' has no attribute '/root/'\n",
            "\n",
            "----------------------------------------------------------------------\n",
            "Ran 1 test in 0.003s\n",
            "\n",
            "FAILED (errors=1)\n"
          ]
        },
        {
          "output_type": "error",
          "ename": "SystemExit",
          "evalue": "ignored",
          "traceback": [
            "An exception has occurred, use %tb to see the full traceback.\n",
            "\u001b[0;31mSystemExit\u001b[0m\u001b[0;31m:\u001b[0m True\n"
          ]
        },
        {
          "output_type": "stream",
          "name": "stderr",
          "text": [
            "/usr/local/lib/python3.7/dist-packages/IPython/core/interactiveshell.py:2890: UserWarning: To exit: use 'exit', 'quit', or Ctrl-D.\n",
            "  warn(\"To exit: use 'exit', 'quit', or Ctrl-D.\", stacklevel=1)\n"
          ]
        }
      ]
    }
  ]
}