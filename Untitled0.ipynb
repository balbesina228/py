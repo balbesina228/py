{
  "nbformat": 4,
  "nbformat_minor": 0,
  "metadata": {
    "colab": {
      "name": "Untitled0.ipynb",
      "provenance": [],
      "authorship_tag": "ABX9TyOAxZUSAziHG1/qBME+ojdk",
      "include_colab_link": true
    },
    "kernelspec": {
      "name": "python3",
      "display_name": "Python 3"
    },
    "language_info": {
      "name": "python"
    }
  },
  "cells": [
    {
      "cell_type": "markdown",
      "metadata": {
        "id": "view-in-github",
        "colab_type": "text"
      },
      "source": [
        "<a href=\"https://colab.research.google.com/github/balbesina228/py/blob/main/Untitled0.ipynb\" target=\"_parent\"><img src=\"https://colab.research.google.com/assets/colab-badge.svg\" alt=\"Open In Colab\"/></a>"
      ]
    },
    {
      "cell_type": "code",
      "execution_count": null,
      "metadata": {
        "id": "YX6imLoVIubA"
      },
      "outputs": [],
      "source": [
        "def get_formatted_name(first, second):\n",
        "    formatted_name = str(first + ', ' + second)\n",
        "    return formatted_name.title()\n",
        "\n",
        "def get_city_country():\n",
        "    x = input('Enter a city: ')\n",
        "    y = input('Enter a country: ')\n",
        "    return get_formatted_name(x, y)\n",
        "    \n",
        "print(get_city_country())\n"
      ]
    },
    {
      "cell_type": "code",
      "source": [
        "import city_functions, unittest\n",
        "\n",
        "class CityCountryTest(unittest.TestCase):\n",
        "    def test_city_country_two_words(self):\n",
        "        variable = get_formatted_name('Santiago', 'Chile')\n",
        "        self.assertEqual('Santiago, Chile')\n",
        "if __name__ == '__main__'\n",
        "    unittest.main()"
      ],
      "metadata": {
        "id": "WM6B9PK2gnGH"
      },
      "execution_count": null,
      "outputs": []
    }
  ]
}